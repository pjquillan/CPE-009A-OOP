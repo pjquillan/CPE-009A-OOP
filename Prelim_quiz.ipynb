{
  "nbformat": 4,
  "nbformat_minor": 0,
  "metadata": {
    "colab": {
      "provenance": [],
      "authorship_tag": "ABX9TyPQBEpcwGcFeB+JfGqvsWwC",
      "include_colab_link": true
    },
    "kernelspec": {
      "name": "python3",
      "display_name": "Python 3"
    },
    "language_info": {
      "name": "python"
    }
  },
  "cells": [
    {
      "cell_type": "markdown",
      "metadata": {
        "id": "view-in-github",
        "colab_type": "text"
      },
      "source": [
        "<a href=\"https://colab.research.google.com/github/pjquillan/CPE-009A-OOP/blob/main/Prelim_quiz.ipynb\" target=\"_parent\"><img src=\"https://colab.research.google.com/assets/colab-badge.svg\" alt=\"Open In Colab\"/></a>"
      ]
    },
    {
      "cell_type": "code",
      "execution_count": 38,
      "metadata": {
        "colab": {
          "base_uri": "https://localhost:8080/"
        },
        "id": "X150tEInKyvS",
        "outputId": "56ee3836-ec2c-45ed-9c9c-f212a32d456f"
      },
      "outputs": [
        {
          "output_type": "stream",
          "name": "stdout",
          "text": [
            "210\n",
            "10.5\n",
            "20\n",
            "-1\n"
          ]
        }
      ],
      "source": [
        "n=20\n",
        "t=n\n",
        "s=0\n",
        "a=0\n",
        "\n",
        "while(n>=0):\n",
        "  s+=n\n",
        "  n-=1\n",
        "else:\n",
        "  print(s)\n",
        "\n",
        "\n",
        "a=s/t\n",
        "print(a)\n",
        "print(t)\n",
        "print(n)\n"
      ]
    }
  ]
}