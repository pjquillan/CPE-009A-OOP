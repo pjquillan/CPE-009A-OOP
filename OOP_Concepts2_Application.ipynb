{
  "nbformat": 4,
  "nbformat_minor": 0,
  "metadata": {
    "colab": {
      "provenance": [],
      "authorship_tag": "ABX9TyPvrVGsObme3FXsShx6lCVs",
      "include_colab_link": true
    },
    "kernelspec": {
      "name": "python3",
      "display_name": "Python 3"
    },
    "language_info": {
      "name": "python"
    }
  },
  "cells": [
    {
      "cell_type": "markdown",
      "metadata": {
        "id": "view-in-github",
        "colab_type": "text"
      },
      "source": [
        "<a href=\"https://colab.research.google.com/github/pjquillan/CPE-009A-OOP/blob/main/OOP_Concepts2_Application.ipynb\" target=\"_parent\"><img src=\"https://colab.research.google.com/assets/colab-badge.svg\" alt=\"Open In Colab\"/></a>"
      ]
    },
    {
      "cell_type": "code",
      "execution_count": 26,
      "metadata": {
        "colab": {
          "base_uri": "https://localhost:8080/"
        },
        "id": "EfdbCm27fjeZ",
        "outputId": "d1ad49b6-7a87-4262-ad9f-c45e094efae2"
      },
      "outputs": [
        {
          "output_type": "stream",
          "name": "stdout",
          "text": [
            "This has 3 sides\n",
            "This has 4 sides\n"
          ]
        }
      ],
      "source": [
        "class Shapes:\n",
        "  def __init__(self,sides):\n",
        "    self.sides=sides\n",
        "  def no(self):\n",
        "    print(\"This has\",self.sides,\"sides\")\n",
        "class Triangle(Shapes):\n",
        "  pass\n",
        "class Rectangle(Shapes):\n",
        "  pass\n",
        "triangle=Triangle(3)\n",
        "rectangle=Rectangle(4)\n",
        "\n",
        "triangle.no()\n",
        "rectangle.no()\n",
        "#print(triangle.sides)\n",
        "#print(rectangle.sides)"
      ]
    },
    {
      "cell_type": "code",
      "source": [
        "class Shapes:\n",
        "  def __init__(self,name,sides):\n",
        "    self.name=name\n",
        "    self.sides=sides\n",
        "  def no(self):\n",
        "    print(self.name,\"has\",self.sides,\"sides\")\n",
        "class Shape1(Shapes):\n",
        "  pass\n",
        "triangle=Shape1(\"triangle\",3)\n",
        "rectangle=Shape1(\"rectangle\",4)\n",
        "\n",
        "triangle.no()\n",
        "rectangle.no()"
      ],
      "metadata": {
        "colab": {
          "base_uri": "https://localhost:8080/"
        },
        "id": "hatNUsPD3UR3",
        "outputId": "f69d1acd-9670-4ad7-89bc-acfeced33a8b"
      },
      "execution_count": 29,
      "outputs": [
        {
          "output_type": "stream",
          "name": "stdout",
          "text": [
            "triangle has 3 sides\n",
            "rectangle has 4 sides\n"
          ]
        }
      ]
    }
  ]
}