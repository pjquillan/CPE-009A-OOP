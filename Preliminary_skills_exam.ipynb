{
  "nbformat": 4,
  "nbformat_minor": 0,
  "metadata": {
    "colab": {
      "provenance": [],
      "authorship_tag": "ABX9TyMlmVIZy/Y8HG8VFnOcC1I/",
      "include_colab_link": true
    },
    "kernelspec": {
      "name": "python3",
      "display_name": "Python 3"
    },
    "language_info": {
      "name": "python"
    }
  },
  "cells": [
    {
      "cell_type": "markdown",
      "metadata": {
        "id": "view-in-github",
        "colab_type": "text"
      },
      "source": [
        "<a href=\"https://colab.research.google.com/github/pjquillan/CPE-009A-OOP/blob/main/Preliminary_skills_exam.ipynb\" target=\"_parent\"><img src=\"https://colab.research.google.com/assets/colab-badge.svg\" alt=\"Open In Colab\"/></a>"
      ]
    },
    {
      "cell_type": "markdown",
      "source": [
        "**Preliminary Skills Exam**\n",
        "\n",
        "Name: Precious Joy Quillan\n",
        "\n",
        "Course & Section: CPE09B-CPE21S5\n",
        "\n",
        "Date of Submission: 9/20/2024\n",
        "\n",
        "Instructor: Engr. Lloyd Pornobi"
      ],
      "metadata": {
        "id": "UR9ZtlqzcrR0"
      }
    },
    {
      "cell_type": "code",
      "execution_count": 12,
      "metadata": {
        "colab": {
          "base_uri": "https://localhost:8080/",
          "height": 0
        },
        "id": "4K3X-hy_cnOH",
        "outputId": "9fc6063e-849b-4f16-8309-ad06fbb93e8b"
      },
      "outputs": [
        {
          "output_type": "stream",
          "name": "stdout",
          "text": [
            "['Precious Joy Quillan\\n']\n",
            "['Quezon City']\n"
          ]
        }
      ],
      "source": [
        "f=open(\"Quillan_CPE21S5.txt\", \"w\")\n",
        "f.write(\"Precious Joy Quillan\\n\")\n",
        "f.write(\"Quezon City\")\n",
        "f.close()\n",
        "\n",
        "f=open(\"Quillan_CPE21S5.txt\", \"r\")\n",
        "i=1\n",
        "while i<3:\n",
        "  print(f.readlines(i))\n",
        "  i=i+1\n",
        "f.close()"
      ]
    },
    {
      "cell_type": "code",
      "source": [
        "f=open(\"Quillan_CPE21S5.txt\", \"a\")\n",
        "try:\n",
        "    a=int(input(\"Age? \"))\n",
        "except ValueError:\n",
        "    print(\"Integers only\")\n",
        "b=str(a)\n",
        "f.write(b)\n",
        "f.close()"
      ],
      "metadata": {
        "colab": {
          "base_uri": "https://localhost:8080/",
          "height": 0
        },
        "id": "dZ4YGh8HoNQO",
        "outputId": "b7c9129a-2e73-453f-a653-01c354326db2"
      },
      "execution_count": 14,
      "outputs": [
        {
          "name": "stdout",
          "output_type": "stream",
          "text": [
            "Age? 13\n"
          ]
        }
      ]
    },
    {
      "cell_type": "code",
      "source": [],
      "metadata": {
        "id": "jzf9xiElkmTN"
      },
      "execution_count": null,
      "outputs": []
    },
    {
      "cell_type": "markdown",
      "source": [
        "**Conclusion**\n",
        "\n",
        "Writing a code with user input is hard, especially when it comes to putting integers in the code. Because files only accept string, getting it to accept int requires creativity. Fortunately, I managed to get it by converting it to string. First the data inputed is in int which goes through the try except to see if it is int. If it is, the data is converted to string then inputted onto the file. If it is anything else, an error message will pop up.\n"
      ],
      "metadata": {
        "id": "1x9qYjjTwZpd"
      }
    }
  ]
}