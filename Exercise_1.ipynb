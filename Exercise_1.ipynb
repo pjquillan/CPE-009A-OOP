{
  "nbformat": 4,
  "nbformat_minor": 0,
  "metadata": {
    "colab": {
      "provenance": [],
      "authorship_tag": "ABX9TyMwxV/ZAYbDRP5jl4s0CuxG",
      "include_colab_link": true
    },
    "kernelspec": {
      "name": "python3",
      "display_name": "Python 3"
    },
    "language_info": {
      "name": "python"
    }
  },
  "cells": [
    {
      "cell_type": "markdown",
      "metadata": {
        "id": "view-in-github",
        "colab_type": "text"
      },
      "source": [
        "<a href=\"https://colab.research.google.com/github/pjquillan/CPE-009A-OOP/blob/main/Exercise_1.ipynb\" target=\"_parent\"><img src=\"https://colab.research.google.com/assets/colab-badge.svg\" alt=\"Open In Colab\"/></a>"
      ]
    },
    {
      "cell_type": "markdown",
      "source": [
        "#Algorithm to get the perimeter and area of a rectangle"
      ],
      "metadata": {
        "id": "hP5rabnZUID1"
      }
    },
    {
      "cell_type": "code",
      "execution_count": 5,
      "metadata": {
        "colab": {
          "base_uri": "https://localhost:8080/"
        },
        "id": "-uA7e5Z6T8hY",
        "outputId": "d8b5bfd0-5a34-4be3-86c9-7975f8a95a1a"
      },
      "outputs": [
        {
          "output_type": "stream",
          "name": "stdout",
          "text": [
            "Input the length of the rectangle\n",
            "5\n",
            "Input the width of the rectangle\n",
            "6\n",
            "Perimeter of the rectangle: \n",
            "22\n",
            "Area of the rectangle\n",
            "30\n"
          ]
        }
      ],
      "source": [
        "print(\"Input the length of the rectangle\")\n",
        "a= input()\n",
        "print(\"Input the width of the rectangle\")\n",
        "b= input()\n",
        "perimeter=(2*int(a))+(2*int(b))\n",
        "area=int(a)*int(b)\n",
        "print(\"Perimeter of the rectangle: \")\n",
        "print (perimeter)\n",
        "print(\"Area of the rectangle\")\n",
        "print(area)\n"
      ]
    }
  ]
}