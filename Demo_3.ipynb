{
  "nbformat": 4,
  "nbformat_minor": 0,
  "metadata": {
    "colab": {
      "provenance": [],
      "authorship_tag": "ABX9TyOpfCPIiWfzKGxaMXs+7n0T",
      "include_colab_link": true
    },
    "kernelspec": {
      "name": "python3",
      "display_name": "Python 3"
    },
    "language_info": {
      "name": "python"
    }
  },
  "cells": [
    {
      "cell_type": "markdown",
      "metadata": {
        "id": "view-in-github",
        "colab_type": "text"
      },
      "source": [
        "<a href=\"https://colab.research.google.com/github/pjquillan/CPE-009A-OOP/blob/main/Demo_3.ipynb\" target=\"_parent\"><img src=\"https://colab.research.google.com/assets/colab-badge.svg\" alt=\"Open In Colab\"/></a>"
      ]
    },
    {
      "cell_type": "markdown",
      "source": [
        "Equals: a==b\n",
        "Not equal: a!=b\n",
        "less than:"
      ],
      "metadata": {
        "id": "kC6fIIW3Nrdj"
      }
    },
    {
      "cell_type": "code",
      "execution_count": null,
      "metadata": {
        "id": "t5nO7KJ0MLse"
      },
      "outputs": [],
      "source": []
    },
    {
      "cell_type": "markdown",
      "source": [
        "If Statemant"
      ],
      "metadata": {
        "id": "-BpMh4agOblj"
      }
    },
    {
      "cell_type": "code",
      "source": [
        "#if statement\n",
        "\n",
        "a=12\n",
        "b=100\n",
        "if b>a:\n",
        "  print(\"b is greater than a\")"
      ],
      "metadata": {
        "colab": {
          "base_uri": "https://localhost:8080/"
        },
        "id": "6AaXlshXOet8",
        "outputId": "9cbcddfb-cb2d-4c68-c7dc-809917ab98b4"
      },
      "execution_count": 1,
      "outputs": [
        {
          "output_type": "stream",
          "name": "stdout",
          "text": [
            "b is greater than a\n"
          ]
        }
      ]
    },
    {
      "cell_type": "markdown",
      "source": [
        "Elif Statement"
      ],
      "metadata": {
        "id": "AJzIcVjDPnaV"
      }
    },
    {
      "cell_type": "code",
      "source": [
        "a=12\n",
        "b=12\n",
        "if b>a:\n",
        "  print(\"b is greater than a\")\n",
        "elif a==b:\n",
        "  print(\"a and b are equal\")"
      ],
      "metadata": {
        "colab": {
          "base_uri": "https://localhost:8080/"
        },
        "id": "0BHHrna-Pm6c",
        "outputId": "98abbf08-8e4a-467d-99b8-e514dc473006"
      },
      "execution_count": 3,
      "outputs": [
        {
          "output_type": "stream",
          "name": "stdout",
          "text": [
            "a and b are equal\n"
          ]
        }
      ]
    },
    {
      "cell_type": "markdown",
      "source": [
        "Else statement"
      ],
      "metadata": {
        "id": "oKh7PntJRF_o"
      }
    },
    {
      "cell_type": "code",
      "source": [
        "a=200\n",
        "b=33\n",
        "if b>a:\n",
        "  print(\"b is greater than a\")\n",
        "elif a==b:\n",
        "  print(\"a and b are equal\")\n",
        "else:\n",
        "  print(\"a is greater than b\")"
      ],
      "metadata": {
        "id": "rD3iNIzMRKNt"
      },
      "execution_count": null,
      "outputs": []
    },
    {
      "cell_type": "markdown",
      "source": [
        "Shorthand if statement"
      ],
      "metadata": {
        "id": "r3NrzgHtSeBG"
      }
    },
    {
      "cell_type": "code",
      "source": [
        "\n",
        "if a>b: print(\"a is greater than b\")"
      ],
      "metadata": {
        "colab": {
          "base_uri": "https://localhost:8080/"
        },
        "id": "n8_B8b4OSlY2",
        "outputId": "43b9d746-4a3a-4601-dc4c-3c2e08816cf6"
      },
      "execution_count": 7,
      "outputs": [
        {
          "output_type": "stream",
          "name": "stdout",
          "text": [
            "a is greater than b\n"
          ]
        }
      ]
    },
    {
      "cell_type": "markdown",
      "source": [
        "And both conditions are true"
      ],
      "metadata": {
        "id": "rvvcxfY4UBzA"
      }
    },
    {
      "cell_type": "code",
      "source": [
        "a=200\n",
        "b=33\n",
        "c=500\n",
        "if a>b and c>a:\n",
        "  print(\"Both conditions are true\")"
      ],
      "metadata": {
        "colab": {
          "base_uri": "https://localhost:8080/"
        },
        "id": "8lVdpUGJUGVX",
        "outputId": "96a729bc-f486-4621-a934-a04dcd4de3b9"
      },
      "execution_count": 8,
      "outputs": [
        {
          "output_type": "stream",
          "name": "stdout",
          "text": [
            "Both conditions are true\n"
          ]
        }
      ]
    },
    {
      "cell_type": "markdown",
      "source": [
        "Nested if"
      ],
      "metadata": {
        "id": "68vbsN0rVOS4"
      }
    },
    {
      "cell_type": "code",
      "source": [
        "x=41\n",
        "if x>10:\n",
        "  print(\"Above 10\")\n",
        "  if x>20:\n",
        "    print(\"and above 20!\")\n",
        "  else:\n",
        "    print(\"but not above 20.\")"
      ],
      "metadata": {
        "colab": {
          "base_uri": "https://localhost:8080/"
        },
        "id": "-9___m7YVQGo",
        "outputId": "a7fd8240-a697-4a8b-de40-4b82af684243"
      },
      "execution_count": 16,
      "outputs": [
        {
          "output_type": "stream",
          "name": "stdout",
          "text": [
            "Above 10\n",
            "and above 20!\n"
          ]
        }
      ]
    },
    {
      "cell_type": "code",
      "source": [
        "if x>10:\n",
        "  print(\"Above 10\")\n",
        "  if x>20:\n",
        "    print(\"and above 20!\")\n",
        "    if x>30:\n",
        "      print(\"and above 30!\")\n",
        "      if x>40:\n",
        "        print(\"and above 40!\")\n",
        "      else:\n",
        "        print(\"but not above 40\")\n",
        "    else:\n",
        "      print(\"but not above 30\")\n",
        "  else:\n",
        "    print(\"but not above 20\")\n",
        ""
      ],
      "metadata": {
        "colab": {
          "base_uri": "https://localhost:8080/"
        },
        "id": "T07iUOA7WCjo",
        "outputId": "69d4fd3c-fdc0-45d0-bbca-b9fd1fed728b"
      },
      "execution_count": 19,
      "outputs": [
        {
          "output_type": "stream",
          "name": "stdout",
          "text": [
            "Above 10\n",
            "and above 20!\n",
            "and above 30!\n",
            "and above 40!\n"
          ]
        }
      ]
    },
    {
      "cell_type": "markdown",
      "source": [
        "#Example 1\n",
        "\n",
        "Write a program\n",
        "that determines if the input age is qualified to vote or not.\n",
        "The qualifying age is 18 years old and above."
      ],
      "metadata": {
        "id": "UMyggX86ao02"
      }
    },
    {
      "cell_type": "code",
      "source": [
        "print(\"Enter your age:\")\n",
        "a=input()\n",
        "if int(a)>=18:\n",
        "  print(\"You are allowed to vote!\")\n",
        "else:\n",
        "  print(\"You are not allowed to vote\")"
      ],
      "metadata": {
        "colab": {
          "base_uri": "https://localhost:8080/"
        },
        "id": "t7_T-CnwbLvc",
        "outputId": "c3033df1-40a8-465c-cd28-3c749a2fd98b"
      },
      "execution_count": 29,
      "outputs": [
        {
          "output_type": "stream",
          "name": "stdout",
          "text": [
            "Enter your age:\n",
            "18\n",
            "You are allowed to vote!\n"
          ]
        }
      ]
    },
    {
      "cell_type": "markdown",
      "source": [
        "#Example 2\n",
        "Write a program that determines if the input number is POSITIVE, NEGATIVE, OR ZERO"
      ],
      "metadata": {
        "id": "kW4pi2vddjUz"
      }
    },
    {
      "cell_type": "code",
      "source": [
        "print(\"Enter number:\")\n",
        "n= int(input())\n",
        "if n>0:\n",
        "  print(\"n is is a positive number\")\n",
        "elif n<0:\n",
        "  print(\"n is a negative number\")\n",
        "else:\n",
        "  print(\"n is zero\")"
      ],
      "metadata": {
        "colab": {
          "base_uri": "https://localhost:8080/"
        },
        "id": "MJ2hi3ttdzW7",
        "outputId": "9a9a81a8-6b2d-4ae7-e684-a90b4f7882c0"
      },
      "execution_count": 33,
      "outputs": [
        {
          "output_type": "stream",
          "name": "stdout",
          "text": [
            "Enter number:\n",
            "-9\n",
            "n is a negative number\n"
          ]
        }
      ]
    }
  ]
}