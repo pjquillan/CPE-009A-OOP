{
  "nbformat": 4,
  "nbformat_minor": 0,
  "metadata": {
    "colab": {
      "provenance": [],
      "authorship_tag": "ABX9TyMP1jdKE86XLB2OZ+RV+/yo",
      "include_colab_link": true
    },
    "kernelspec": {
      "name": "python3",
      "display_name": "Python 3"
    },
    "language_info": {
      "name": "python"
    }
  },
  "cells": [
    {
      "cell_type": "markdown",
      "metadata": {
        "id": "view-in-github",
        "colab_type": "text"
      },
      "source": [
        "<a href=\"https://colab.research.google.com/github/pjquillan/CPE-009A-OOP/blob/main/algorithm.ipynb\" target=\"_parent\"><img src=\"https://colab.research.google.com/assets/colab-badge.svg\" alt=\"Open In Colab\"/></a>"
      ]
    },
    {
      "cell_type": "markdown",
      "source": [
        "algorithm"
      ],
      "metadata": {
        "id": "wdHNxUDSMzf8"
      }
    },
    {
      "cell_type": "code",
      "execution_count": 9,
      "metadata": {
        "colab": {
          "base_uri": "https://localhost:8080/"
        },
        "id": "bxLzy36hIqfg",
        "outputId": "c4873368-4952-416c-8467-2da1bf813a2a"
      },
      "outputs": [
        {
          "output_type": "stream",
          "name": "stdout",
          "text": [
            "10.0\n",
            "average is less than 50\n"
          ]
        }
      ],
      "source": [
        "num1,num2,num3=3,7,20\n",
        "sum=0\n",
        "average=0\n",
        "\n",
        "sum=num1+num2+num3\n",
        "average=sum/3\n",
        "\n",
        "print (average)\n",
        "if average>50:\n",
        "  print (\"average is greater than 50\")\n",
        "if average==50:\n",
        "  print (\"average is equal to 50\")\n",
        "if average<50:\n",
        "  print (\"average is less than 50\")\n"
      ]
    }
  ]
}