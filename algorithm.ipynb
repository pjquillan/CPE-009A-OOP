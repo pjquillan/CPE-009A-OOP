{
  "nbformat": 4,
  "nbformat_minor": 0,
  "metadata": {
    "colab": {
      "provenance": [],
      "authorship_tag": "ABX9TyPEFkc4/m6f/h42zwgSwzBJ",
      "include_colab_link": true
    },
    "kernelspec": {
      "name": "python3",
      "display_name": "Python 3"
    },
    "language_info": {
      "name": "python"
    }
  },
  "cells": [
    {
      "cell_type": "markdown",
      "metadata": {
        "id": "view-in-github",
        "colab_type": "text"
      },
      "source": [
        "<a href=\"https://colab.research.google.com/github/pjquillan/CPE-009A-OOP/blob/main/algorithm.ipynb\" target=\"_parent\"><img src=\"https://colab.research.google.com/assets/colab-badge.svg\" alt=\"Open In Colab\"/></a>"
      ]
    },
    {
      "cell_type": "markdown",
      "source": [
        "algorithm"
      ],
      "metadata": {
        "id": "wdHNxUDSMzf8"
      }
    },
    {
      "cell_type": "code",
      "execution_count": 10,
      "metadata": {
        "colab": {
          "base_uri": "https://localhost:8080/"
        },
        "id": "bxLzy36hIqfg",
        "outputId": "790b58ab-d117-4ebb-fe87-d90bf9da5e97"
      },
      "outputs": [
        {
          "output_type": "stream",
          "name": "stdout",
          "text": [
            "30\n",
            "10.0\n",
            "average is less than 50\n"
          ]
        }
      ],
      "source": [
        "num1,num2,num3=3,7,20\n",
        "sum=0\n",
        "average=0\n",
        "\n",
        "sum=num1+num2+num3\n",
        "average=sum/3\n",
        "\n",
        "print (sum)\n",
        "print (average)\n",
        "if average>50:\n",
        "  print (\"average is greater than 50\")\n",
        "if average==50:\n",
        "  print (\"average is equal to 50\")\n",
        "if average<50:\n",
        "  print (\"average is less than 50\")\n"
      ]
    },
    {
      "cell_type": "markdown",
      "source": [
        "input"
      ],
      "metadata": {
        "id": "3e0FWaQbPyn0"
      }
    },
    {
      "cell_type": "code",
      "source": [
        "print(\"Imput three grades\")\n",
        "num1= input()\n",
        "num2= input()\n",
        "num3= input()\n",
        "average=0\n",
        "#this is a string\n",
        "average=(int(num1)+int(num2)+int(num3))/3\n",
        "print(average)\n",
        "if average>50:\n",
        "  print (\"average is greater than 50\")\n",
        "if average==50:\n",
        "  print (\"average is equal to 50\")\n",
        "if average<50:\n",
        "  print (\"average is less than 50\")\n",
        "55"
      ],
      "metadata": {
        "colab": {
          "base_uri": "https://localhost:8080/"
        },
        "id": "2EuwmvtNPySM",
        "outputId": "23356df4-023f-4882-e92b-5d3463c9703a"
      },
      "execution_count": 14,
      "outputs": [
        {
          "output_type": "stream",
          "name": "stdout",
          "text": [
            "Imput three grades\n",
            "50\n",
            "50\n",
            "50\n",
            "50.0\n",
            "average is equal to 50\n"
          ]
        }
      ]
    }
  ]
}