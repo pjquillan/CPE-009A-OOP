{
  "nbformat": 4,
  "nbformat_minor": 0,
  "metadata": {
    "colab": {
      "provenance": [],
      "authorship_tag": "ABX9TyMnq/4J1NIvmrdgWNQbPwxC",
      "include_colab_link": true
    },
    "kernelspec": {
      "name": "python3",
      "display_name": "Python 3"
    },
    "language_info": {
      "name": "python"
    }
  },
  "cells": [
    {
      "cell_type": "markdown",
      "metadata": {
        "id": "view-in-github",
        "colab_type": "text"
      },
      "source": [
        "<a href=\"https://colab.research.google.com/github/pjquillan/CPE-009A-OOP/blob/main/Concepts_of_OOP.ipynb\" target=\"_parent\"><img src=\"https://colab.research.google.com/assets/colab-badge.svg\" alt=\"Open In Colab\"/></a>"
      ]
    },
    {
      "cell_type": "code",
      "execution_count": 2,
      "metadata": {
        "colab": {
          "base_uri": "https://localhost:8080/"
        },
        "id": "f02Fo6r9VJc_",
        "outputId": "e84a0cfa-6c8f-47f3-8875-8593c4c0322e"
      },
      "outputs": [
        {
          "output_type": "stream",
          "name": "stdout",
          "text": [
            "<__main__.Car object at 0x7df11e61d540>\n"
          ]
        }
      ],
      "source": [
        "class Car:\n",
        "  pass\n",
        "obj1=Car()\n",
        "print(obj1)"
      ]
    },
    {
      "cell_type": "code",
      "source": [
        "class Car:\n",
        "  def __init__(self,name,color,mileage):\n",
        "    self.name=name\n",
        "    self.color=color\n",
        "obj1=Car(\"BMW\",\"Red\",1000)\n",
        "obj2=Car(\"Toyota\",\"Blue\",1200)\n",
        "print(obj2.color)"
      ],
      "metadata": {
        "colab": {
          "base_uri": "https://localhost:8080/"
        },
        "id": "DJZhwbuKi6J0",
        "outputId": "b4d6c147-296d-4e33-a766-4123a506ca5c"
      },
      "execution_count": 7,
      "outputs": [
        {
          "output_type": "stream",
          "name": "stdout",
          "text": [
            "Blue\n"
          ]
        }
      ]
    },
    {
      "cell_type": "markdown",
      "source": [
        "#Application 1\n",
        "Write a python program that prints your student information with the following attributes: Name, Age Course, and Section. Use class name student(), object name as student."
      ],
      "metadata": {
        "id": "K7u0eDeonDLt"
      }
    },
    {
      "cell_type": "code",
      "source": [
        "class student:\n",
        "  def __init__(self,name,age,course,section):\n",
        "    self.name=name\n",
        "    self.age=age\n",
        "    self.course=course\n",
        "    self.section=section\n",
        "obj1=student(\"Precious Joy Quillan\",18,\"CPE\",\"CPE12S6\")\n",
        "print(\"My name is\",obj1.name)\n",
        "print(\"I am\",obj1.age,\"Yr\")\n",
        "print(\"My course is\",obj1.course)\n",
        "print(\"My section is\",obj1.section)\n"
      ],
      "metadata": {
        "colab": {
          "base_uri": "https://localhost:8080/"
        },
        "id": "YLrfhNcSnZJK",
        "outputId": "5032019f-940f-49ac-968f-24b722974739"
      },
      "execution_count": 17,
      "outputs": [
        {
          "output_type": "stream",
          "name": "stdout",
          "text": [
            "My name is Precious Joy Quillan\n",
            "I am 18 Yr\n",
            "My course is CPE\n",
            "My section is CPE12S6\n"
          ]
        }
      ]
    }
  ]
}