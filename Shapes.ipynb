{
  "nbformat": 4,
  "nbformat_minor": 0,
  "metadata": {
    "colab": {
      "provenance": [],
      "authorship_tag": "ABX9TyOGl/xQqYZoeR/PeCM9io3r",
      "include_colab_link": true
    },
    "kernelspec": {
      "name": "python3",
      "display_name": "Python 3"
    },
    "language_info": {
      "name": "python"
    }
  },
  "cells": [
    {
      "cell_type": "markdown",
      "metadata": {
        "id": "view-in-github",
        "colab_type": "text"
      },
      "source": [
        "<a href=\"https://colab.research.google.com/github/pjquillan/CPE-009A-OOP/blob/main/Shapes.ipynb\" target=\"_parent\"><img src=\"https://colab.research.google.com/assets/colab-badge.svg\" alt=\"Open In Colab\"/></a>"
      ]
    },
    {
      "cell_type": "code",
      "execution_count": 21,
      "metadata": {
        "colab": {
          "base_uri": "https://localhost:8080/"
        },
        "id": "EfdbCm27fjeZ",
        "outputId": "bf84109f-d7af-4580-8ce6-6471952fe2a1"
      },
      "outputs": [
        {
          "output_type": "stream",
          "name": "stdout",
          "text": [
            "4\n"
          ]
        }
      ],
      "source": [
        "class Shapes:\n",
        "  def __init__(self,sides):\n",
        "    self.sides=sides\n",
        "  def no(self):\n",
        "    print(self.sides)\n",
        "class Triangle(Shapes):\n",
        "  pass\n",
        "class Rectangle(Shapes):\n",
        "  pass\n",
        "triangle=Triangle(3)\n",
        "rectangle=Rectangle(4)\n",
        "rectangle.no()\n",
        "triangle.no\n",
        "#print(triangle.sides)\n",
        "#print(rectangle.sides)"
      ]
    }
  ]
}