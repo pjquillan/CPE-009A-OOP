{
  "nbformat": 4,
  "nbformat_minor": 0,
  "metadata": {
    "colab": {
      "provenance": [],
      "authorship_tag": "ABX9TyOSnoS/4GWeWv6BKQOhHOVG",
      "include_colab_link": true
    },
    "kernelspec": {
      "name": "python3",
      "display_name": "Python 3"
    },
    "language_info": {
      "name": "python"
    }
  },
  "cells": [
    {
      "cell_type": "markdown",
      "metadata": {
        "id": "view-in-github",
        "colab_type": "text"
      },
      "source": [
        "<a href=\"https://colab.research.google.com/github/pjquillan/CPE-009A-OOP/blob/main/Shapes.ipynb\" target=\"_parent\"><img src=\"https://colab.research.google.com/assets/colab-badge.svg\" alt=\"Open In Colab\"/></a>"
      ]
    },
    {
      "cell_type": "code",
      "execution_count": 26,
      "metadata": {
        "colab": {
          "base_uri": "https://localhost:8080/"
        },
        "id": "EfdbCm27fjeZ",
        "outputId": "d1ad49b6-7a87-4262-ad9f-c45e094efae2"
      },
      "outputs": [
        {
          "output_type": "stream",
          "name": "stdout",
          "text": [
            "This has 3 sides\n",
            "This has 4 sides\n"
          ]
        }
      ],
      "source": [
        "class Shapes:\n",
        "  def __init__(self,sides):\n",
        "    self.sides=sides\n",
        "  def no(self):\n",
        "    print(\"This has\",self.sides,\"sides\")\n",
        "class Triangle(Shapes):\n",
        "  pass\n",
        "class Rectangle(Shapes):\n",
        "  pass\n",
        "triangle=Triangle(3)\n",
        "rectangle=Rectangle(4)\n",
        "\n",
        "triangle.no()\n",
        "rectangle.no()\n",
        "#print(triangle.sides)\n",
        "#print(rectangle.sides)"
      ]
    }
  ]
}