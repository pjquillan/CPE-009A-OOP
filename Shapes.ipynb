{
  "nbformat": 4,
  "nbformat_minor": 0,
  "metadata": {
    "colab": {
      "provenance": [],
      "authorship_tag": "ABX9TyOxEqN1pptbY8fxjFddufo/",
      "include_colab_link": true
    },
    "kernelspec": {
      "name": "python3",
      "display_name": "Python 3"
    },
    "language_info": {
      "name": "python"
    }
  },
  "cells": [
    {
      "cell_type": "markdown",
      "metadata": {
        "id": "view-in-github",
        "colab_type": "text"
      },
      "source": [
        "<a href=\"https://colab.research.google.com/github/pjquillan/CPE-009A-OOP/blob/main/Shapes.ipynb\" target=\"_parent\"><img src=\"https://colab.research.google.com/assets/colab-badge.svg\" alt=\"Open In Colab\"/></a>"
      ]
    },
    {
      "cell_type": "code",
      "execution_count": 23,
      "metadata": {
        "colab": {
          "base_uri": "https://localhost:8080/"
        },
        "id": "EfdbCm27fjeZ",
        "outputId": "9d68813a-ef42-4282-a63b-b5302195b667"
      },
      "outputs": [
        {
          "output_type": "stream",
          "name": "stdout",
          "text": [
            "This has 4\n",
            "This has 3\n"
          ]
        }
      ],
      "source": [
        "class Shapes:\n",
        "  def __init__(self,sides):\n",
        "    self.sides=sides\n",
        "  def no(self):\n",
        "    print(\"This has\",self.sides,\"shapes\")\n",
        "class Triangle(Shapes):\n",
        "  pass\n",
        "class Rectangle(Shapes):\n",
        "  pass\n",
        "triangle=Triangle(3)\n",
        "rectangle=Rectangle(4)\n",
        "rectangle.no()\n",
        "triangle.no()\n",
        "#print(triangle.sides)\n",
        "#print(rectangle.sides)"
      ]
    }
  ]
}