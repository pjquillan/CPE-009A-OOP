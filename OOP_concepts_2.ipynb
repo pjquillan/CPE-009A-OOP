{
  "nbformat": 4,
  "nbformat_minor": 0,
  "metadata": {
    "colab": {
      "provenance": [],
      "authorship_tag": "ABX9TyOAEx0wrGMDiZ+GqnK61QZ7",
      "include_colab_link": true
    },
    "kernelspec": {
      "name": "python3",
      "display_name": "Python 3"
    },
    "language_info": {
      "name": "python"
    }
  },
  "cells": [
    {
      "cell_type": "markdown",
      "metadata": {
        "id": "view-in-github",
        "colab_type": "text"
      },
      "source": [
        "<a href=\"https://colab.research.google.com/github/pjquillan/CPE-009A-OOP/blob/main/OOP_concepts_2.ipynb\" target=\"_parent\"><img src=\"https://colab.research.google.com/assets/colab-badge.svg\" alt=\"Open In Colab\"/></a>"
      ]
    },
    {
      "cell_type": "code",
      "execution_count": 7,
      "metadata": {
        "colab": {
          "base_uri": "https://localhost:8080/"
        },
        "id": "ydG3r3sxZ12n",
        "outputId": "10150dbd-ad69-4863-dab1-e4316f314e48"
      },
      "outputs": [
        {
          "output_type": "stream",
          "name": "stdout",
          "text": [
            "16\n",
            "10.825\n"
          ]
        }
      ],
      "source": [
        "class RegularPolygon: #Creates superclass name RegularPolygon\n",
        "  def __init__(self,side):\n",
        "    self.side=side\n",
        "class Square(RegularPolygon): #Inherits the properties of superclass RegularPolygon\n",
        "    def area(self): #Defines the method/function to get the area of a square\n",
        "      return self.side*self.side\n",
        "class EquilateralTriangle(RegularPolygon):\n",
        "  def area(self): #Defines the methods/function to get the area of a equilateral triangle\n",
        "    return self.side*self.side*0.433\n",
        "\n",
        "square=Square(4) #Creates an object name square\n",
        "print(square.area()) #Print the instance of the attribute of Square class\n",
        "equitriangle=EquilateralTriangle(5) #Creates an object name equitriangle\n",
        "print(equitriangle.area()) #Print the instance of the attribute of EquilateralTriangle"
      ]
    },
    {
      "cell_type": "markdown",
      "source": [
        "#Encapsulation"
      ],
      "metadata": {
        "id": "Xj16nKxArDMd"
      }
    },
    {
      "cell_type": "code",
      "source": [
        "class RegularPolygon: #Creates superclass name RegularPolygon\n",
        "  def __init__(self,side):\n",
        "    self.side=side\n",
        "  def area(self): #Defines the method/function to get the area of a square\n",
        "    print(self.side*self.side)\n",
        "class Square(RegularPolygon): #Inherits the properties of superclass RegularPolygon\n",
        "  pass\n",
        "\n",
        "square=Square(4)\n",
        "square.area()"
      ],
      "metadata": {
        "colab": {
          "base_uri": "https://localhost:8080/"
        },
        "id": "mP89gHm2rIqk",
        "outputId": "c23daea4-d9af-42bf-a9cc-f03a15d2cee2"
      },
      "execution_count": 8,
      "outputs": [
        {
          "output_type": "stream",
          "name": "stdout",
          "text": [
            "16\n"
          ]
        }
      ]
    },
    {
      "cell_type": "markdown",
      "source": [
        "Application 1"
      ],
      "metadata": {
        "id": "AYI5QbPgw4wc"
      }
    },
    {
      "cell_type": "code",
      "source": [
        "class Person:\n",
        "  def __init__(self,pre,mid,fin):\n",
        "    self.pre=pre\n",
        "    self.mid=mid\n",
        "    self.fin=fin\n",
        "  def Grade(self):\n",
        "    return ((self.pre+self.mid+self.fin)/3)\n",
        "class Student(Person):\n",
        "  pass\n",
        "\n",
        "Student1=Student(65,75,64)\n",
        "Student2=Student(78,87,67)\n",
        "Student3=Student(54,86,65)\n",
        "print(\"Student1:\",Student1.Grade())\n",
        "print(\"Student2:\",Student2.Grade())\n",
        "print(\"Student3:\",Student3.Grade())\n"
      ],
      "metadata": {
        "colab": {
          "base_uri": "https://localhost:8080/"
        },
        "id": "gEIEFRTbtXfM",
        "outputId": "0c11819f-85b8-439b-8fda-f5a91d630397"
      },
      "execution_count": 18,
      "outputs": [
        {
          "output_type": "stream",
          "name": "stdout",
          "text": [
            "Student1: 68.0\n",
            "Student2: 77.33333333333333\n",
            "Student3: 68.33333333333333\n"
          ]
        }
      ]
    }
  ]
}